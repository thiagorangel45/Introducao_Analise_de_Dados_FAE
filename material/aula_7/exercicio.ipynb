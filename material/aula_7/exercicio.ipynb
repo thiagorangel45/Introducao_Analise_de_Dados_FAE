{
 "cells": [
  {
   "cell_type": "code",
   "execution_count": 6,
   "id": "7c72e010-777b-4a14-8deb-4e0c543cc225",
   "metadata": {},
   "outputs": [],
   "source": [
    "import uproot\n",
    "import matplotlib.pyplot as plt\n",
    "import pandas as pd\n",
    "import numpy as np\n",
    "import awkward as ak\n",
    "import glob"
   ]
  },
  {
   "cell_type": "code",
   "execution_count": null,
   "id": "3573cca5-b37b-4764-b3e8-52b8dde760d3",
   "metadata": {},
   "outputs": [],
   "source": [
    "directory = \"/opendata/eos/opendata/cms/Run2016G/DoubleEG/NANOAOD/UL2016_MiniAODv2_NanoAODv9-v1/100000\"\n",
    "file_paths = glob.glob(f\"{directory}/*.root\")\n",
    "tree = uproot.concatenate([f\"{file}:Events\" for file in file_paths])\n",
    "print(tree.keys())"
   ]
  },
  {
   "cell_type": "code",
   "execution_count": null,
   "id": "01fe998c-3f49-4bec-aaa3-7eea05539d4d",
   "metadata": {},
   "outputs": [],
   "source": []
  },
  {
   "cell_type": "code",
   "execution_count": null,
   "id": "7504f84c-3081-4990-9ca4-bdcb1163fea6",
   "metadata": {},
   "outputs": [],
   "source": []
  }
 ],
 "metadata": {
  "kernelspec": {
   "display_name": "Python 3.12 (com ROOT)",
   "language": "python",
   "name": "python3.12"
  },
  "language_info": {
   "codemirror_mode": {
    "name": "ipython",
    "version": 3
   },
   "file_extension": ".py",
   "mimetype": "text/x-python",
   "name": "python",
   "nbconvert_exporter": "python",
   "pygments_lexer": "ipython3",
   "version": "3.12.2"
  }
 },
 "nbformat": 4,
 "nbformat_minor": 5
}
