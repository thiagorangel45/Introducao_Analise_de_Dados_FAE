{
 "cells": [
  {
   "cell_type": "markdown",
   "id": "a01a5037-8df6-49c5-9c2c-d5e4795094aa",
   "metadata": {},
   "source": [
    "* Referência: https://hsf-training.github.io"
   ]
  },
  {
   "cell_type": "markdown",
   "id": "122885ca-b243-40be-93bf-dde1eaa61de4",
   "metadata": {},
   "source": [
    "# Introdução\n"
   ]
  },
  {
   "cell_type": "code",
   "execution_count": 14,
   "id": "add406f6-de66-4901-92b8-cfc512fdd1ba",
   "metadata": {},
   "outputs": [],
   "source": [
    "import numpy as np #NumPy (Numerical Python) é uma biblioteca fundamental para computação numérica em Python."
   ]
  },
  {
   "cell_type": "code",
   "execution_count": 15,
   "id": "47b32845-ab9b-46e3-80f9-926f30fd8c4d",
   "metadata": {},
   "outputs": [],
   "source": [
    "#import coffea"
   ]
  },
  {
   "cell_type": "code",
   "execution_count": 16,
   "id": "861adfbf-dedd-421e-976a-f79a5bda45e5",
   "metadata": {},
   "outputs": [],
   "source": [
    "import uproot\n",
    "import awkward as ak"
   ]
  },
  {
   "cell_type": "code",
   "execution_count": 17,
   "id": "96573b68-97cb-43af-acc3-8188a4540726",
   "metadata": {},
   "outputs": [],
   "source": [
    "import matplotlib.pyplot as plt\n",
    "import vector\n",
    "import hist\n",
    "import mplhep as hep #estilos e funções específicos para a física de partículas,facilitando a criação de gráficos que seguem padrões comuns na área."
   ]
  },
  {
   "cell_type": "code",
   "execution_count": 18,
   "id": "567146f2-0463-448b-a012-add500a779a1",
   "metadata": {},
   "outputs": [],
   "source": [
    "#Abrir o arquivo .root com o uproot\n",
    "file = uproot.open('/opendata/aula-manipulando-dados/parteII/open-data-example.root')"
   ]
  },
  {
   "cell_type": "code",
   "execution_count": 19,
   "id": "fcc4a845-c5b2-43e4-bbf7-2d422e6e8f6f",
   "metadata": {},
   "outputs": [
    {
     "data": {
      "text/plain": [
       "<ReadOnlyDirectory '/' at 0x7fa16cf3d670>"
      ]
     },
     "execution_count": 19,
     "metadata": {},
     "output_type": "execute_result"
    }
   ],
   "source": [
    "file"
   ]
  },
  {
   "cell_type": "code",
   "execution_count": 20,
   "id": "d35c752b-0f42-4e5c-bd37-c9086948c4d3",
   "metadata": {},
   "outputs": [
    {
     "data": {
      "text/plain": [
       "['Events;1']"
      ]
     },
     "execution_count": 20,
     "metadata": {},
     "output_type": "execute_result"
    }
   ],
   "source": [
    "#Inspecionar o que tem no arquivo\n",
    "file.keys()"
   ]
  },
  {
   "cell_type": "code",
   "execution_count": 21,
   "id": "bfa0928c-bebb-41bb-8e19-25bfc58260e1",
   "metadata": {},
   "outputs": [
    {
     "data": {
      "text/plain": [
       "{'Events;1': 'TTree'}"
      ]
     },
     "execution_count": 21,
     "metadata": {},
     "output_type": "execute_result"
    }
   ],
   "source": [
    "#Qual é o tipo de conteúdo do arquivo?\n",
    "file.classnames()"
   ]
  },
  {
   "cell_type": "code",
   "execution_count": 22,
   "id": "5c5b676a-3e4b-40f1-83f7-2341079b6b43",
   "metadata": {},
   "outputs": [
    {
     "data": {
      "text/plain": [
       "<TTree 'Events' (6 branches) at 0x7fa17ad5f1a0>"
      ]
     },
     "execution_count": 22,
     "metadata": {},
     "output_type": "execute_result"
    }
   ],
   "source": [
    "#Quantos branches tem no arquivo?\n",
    "file['Events;1']"
   ]
  },
  {
   "cell_type": "code",
   "execution_count": 23,
   "id": "70e9999d-d06f-4b49-be0c-90b49ac6fb5d",
   "metadata": {},
   "outputs": [],
   "source": [
    "tree = file['Events;1']"
   ]
  },
  {
   "cell_type": "markdown",
   "id": "0d6fdaac-2518-4be6-b233-78341c7e8b0a",
   "metadata": {},
   "source": [
    "Métodos usados para explorar o conteúdo das trees de dados."
   ]
  },
  {
   "cell_type": "code",
   "execution_count": 24,
   "id": "fd5f0e43-bd9f-41f3-90c6-6cfd8d2f084b",
   "metadata": {},
   "outputs": [
    {
     "name": "stdout",
     "output_type": "stream",
     "text": [
      "name                 | typename                 | interpretation                \n",
      "---------------------+--------------------------+-------------------------------\n",
      "nMuon                | uint32_t                 | AsDtype('>u4')\n",
      "Muon_pt              | float[]                  | AsJagged(AsDtype('>f4'))\n",
      "Muon_eta             | float[]                  | AsJagged(AsDtype('>f4'))\n",
      "Muon_phi             | float[]                  | AsJagged(AsDtype('>f4'))\n",
      "Muon_mass            | float[]                  | AsJagged(AsDtype('>f4'))\n",
      "Muon_charge          | int32_t[]                | AsJagged(AsDtype('>i4'))\n"
     ]
    }
   ],
   "source": [
    "# O que temos na tree? (I) (tabela)\n",
    "tree.show()"
   ]
  },
  {
   "cell_type": "code",
   "execution_count": 25,
   "id": "1d626688-ebef-4653-98f9-5eede94f05e4",
   "metadata": {},
   "outputs": [
    {
     "data": {
      "text/plain": [
       "['nMuon', 'Muon_pt', 'Muon_eta', 'Muon_phi', 'Muon_mass', 'Muon_charge']"
      ]
     },
     "execution_count": 25,
     "metadata": {},
     "output_type": "execute_result"
    }
   ],
   "source": [
    "# O que temos na tree? (II) (lista)\n",
    "tree.keys()"
   ]
  },
  {
   "cell_type": "code",
   "execution_count": 26,
   "id": "444b2ef1-729a-47d9-a920-9d886bd3e391",
   "metadata": {},
   "outputs": [
    {
     "name": "stdout",
     "output_type": "stream",
     "text": [
      "nevents = 100000\n"
     ]
    }
   ],
   "source": [
    "#Usar o método \"num_entries\" para ter a informação do nr de eventos na tree\n",
    "\n",
    "nevents = tree.num_entries\n",
    "\n",
    "print(f\"{nevents = }\")\n",
    "\n"
   ]
  },
  {
   "cell_type": "code",
   "execution_count": 27,
   "id": "671a6e64-dede-46a1-9722-ea96f7dd3ae6",
   "metadata": {},
   "outputs": [
    {
     "data": {
      "text/plain": [
       "array(100000)"
      ]
     },
     "execution_count": 27,
     "metadata": {},
     "output_type": "execute_result"
    }
   ],
   "source": [
    "#número de eventos no dataset\n",
    "ak.num(tree['Muon_pt'].array(), axis=0)"
   ]
  },
  {
   "cell_type": "code",
   "execution_count": 28,
   "id": "8fd29396-6a3c-4f86-88e3-f88c9e2b5237",
   "metadata": {},
   "outputs": [
    {
     "data": {
      "text/html": [
       "<pre>[2,\n",
       " 2,\n",
       " 1,\n",
       " 4,\n",
       " 4,\n",
       " 3,\n",
       " 2,\n",
       " 2,\n",
       " 2,\n",
       " 2,\n",
       " ...,\n",
       " 3,\n",
       " 2,\n",
       " 1,\n",
       " 0,\n",
       " 3,\n",
       " 2,\n",
       " 3,\n",
       " 2,\n",
       " 3]\n",
       "--------------------\n",
       "type: 100000 * int64</pre>"
      ],
      "text/plain": [
       "<Array [2, 2, 1, 4, 4, 3, 2, 2, ..., 1, 0, 3, 2, 3, 2, 3] type='100000 * int64'>"
      ]
     },
     "execution_count": 28,
     "metadata": {},
     "output_type": "execute_result"
    }
   ],
   "source": [
    "ak.num(tree['Muon_pt'].array(), axis=1)"
   ]
  },
  {
   "cell_type": "code",
   "execution_count": 29,
   "id": "8eec7606-904a-44ad-8478-2fa8b468f8e7",
   "metadata": {},
   "outputs": [
    {
     "data": {
      "text/html": [
       "<pre>[2,\n",
       " 2,\n",
       " 1,\n",
       " 4,\n",
       " 4,\n",
       " 3,\n",
       " 2,\n",
       " 2,\n",
       " 2,\n",
       " 2,\n",
       " ...,\n",
       " 3,\n",
       " 2,\n",
       " 1,\n",
       " 0,\n",
       " 3,\n",
       " 2,\n",
       " 3,\n",
       " 2,\n",
       " 3]\n",
       "---------------------\n",
       "type: 100000 * uint32</pre>"
      ],
      "text/plain": [
       "<Array [2, 2, 1, 4, 4, 3, 2, ..., 1, 0, 3, 2, 3, 2, 3] type='100000 * uint32'>"
      ]
     },
     "execution_count": 29,
     "metadata": {},
     "output_type": "execute_result"
    }
   ],
   "source": [
    "tree['nMuon'].array()"
   ]
  },
  {
   "cell_type": "markdown",
   "id": "e28db36a-e18e-42eb-a5e2-8cb287bed3b4",
   "metadata": {},
   "source": [
    "*tree['nMuon'].array()* forma mais direta e eficiente de obter a contagem de múons por evento."
   ]
  },
  {
   "cell_type": "code",
   "execution_count": 30,
   "id": "9bd473df-a8a3-4f9a-9ae3-a4e563a393d6",
   "metadata": {},
   "outputs": [
    {
     "data": {
      "text/html": [
       "<pre>[{nMuon: 2, Muon_pt: [10.8, 15.7], Muon_eta: [1.07, ...], Muon_phi: [...], ...},\n",
       " {nMuon: 2, Muon_pt: [10.5, 16.3], Muon_eta: [-0.428, ...], Muon_phi: ..., ...},\n",
       " {nMuon: 1, Muon_pt: [3.28], Muon_eta: [2.21], Muon_phi: [-1.22], ...},\n",
       " {nMuon: 4, Muon_pt: [11.4, 17.6, ..., 3.5], Muon_eta: [...], ...},\n",
       " {nMuon: 4, Muon_pt: [3.28, 3.64, ..., 23.7], Muon_eta: [...], ...},\n",
       " {nMuon: 3, Muon_pt: [3.57, 4.57, 4.37], Muon_eta: [...], Muon_phi: [...], ...},\n",
       " {nMuon: 2, Muon_pt: [57.6, 53], Muon_eta: [-0.532, ...], Muon_phi: [...], ...},\n",
       " {nMuon: 2, Muon_pt: [11.3, 23.9], Muon_eta: [-0.772, ...], Muon_phi: ..., ...},\n",
       " {nMuon: 2, Muon_pt: [10.2, 14.2], Muon_eta: [0.442, ...], Muon_phi: ..., ...},\n",
       " {nMuon: 2, Muon_pt: [11.5, 3.47], Muon_eta: [2.34, ...], Muon_phi: [...], ...},\n",
       " ...,\n",
       " {nMuon: 3, Muon_pt: [17.3, 4.57, 5.96], Muon_eta: [...], Muon_phi: [...], ...},\n",
       " {nMuon: 2, Muon_pt: [9.58, 3.33], Muon_eta: [-1.51, ...], Muon_phi: ..., ...},\n",
       " {nMuon: 1, Muon_pt: [9.48], Muon_eta: [1.12], Muon_phi: [0.85], ...},\n",
       " {nMuon: 0, Muon_pt: [], Muon_eta: [], Muon_phi: [], Muon_mass: [], ...},\n",
       " {nMuon: 3, Muon_pt: [30.3, 9.89, 6.69], Muon_eta: [...], Muon_phi: [...], ...},\n",
       " {nMuon: 2, Muon_pt: [46.4, 43.9], Muon_eta: [-1.93, ...], Muon_phi: ..., ...},\n",
       " {nMuon: 3, Muon_pt: [6.34, 6.98, 5.09], Muon_eta: [...], Muon_phi: [...], ...},\n",
       " {nMuon: 2, Muon_pt: [3.31, 15.7], Muon_eta: [1.64, ...], Muon_phi: [...], ...},\n",
       " {nMuon: 3, Muon_pt: [11.4, 3.08, 4.97], Muon_eta: [...], Muon_phi: [...], ...}]\n",
       "--------------------------------------------------------------------------------\n",
       "type: 100000 * {\n",
       "    nMuon: uint32,\n",
       "    Muon_pt: var * float32,\n",
       "    Muon_eta: var * float32,\n",
       "    Muon_phi: var * float32,\n",
       "    Muon_mass: var * float32,\n",
       "    Muon_charge: var * int32\n",
       "}</pre>"
      ],
      "text/plain": [
       "<Array [{nMuon: 2, Muon_pt: [...], ...}, ...] type='100000 * {nMuon: uint32...'>"
      ]
     },
     "execution_count": 30,
     "metadata": {},
     "output_type": "execute_result"
    }
   ],
   "source": [
    "branches = tree.arrays() #\n",
    "branches"
   ]
  },
  {
   "cell_type": "markdown",
   "id": "70044d01-2a57-4ea1-8567-b7133d8dd30a",
   "metadata": {},
   "source": [
    "Retorna um dicionário de arrays, onde as chaves são os nomes dos branches, e os valores são arrays com os dados de cada branch."
   ]
  },
  {
   "cell_type": "code",
   "execution_count": 31,
   "id": "a3b1ffcc-35d3-4ed7-9c5b-d58205eb0ec9",
   "metadata": {},
   "outputs": [
    {
     "data": {
      "text/html": [
       "<pre>[2,\n",
       " 2,\n",
       " 1,\n",
       " 4,\n",
       " 4,\n",
       " 3,\n",
       " 2,\n",
       " 2,\n",
       " 2,\n",
       " 2,\n",
       " ...,\n",
       " 3,\n",
       " 2,\n",
       " 1,\n",
       " 0,\n",
       " 3,\n",
       " 2,\n",
       " 3,\n",
       " 2,\n",
       " 3]\n",
       "---------------------\n",
       "type: 100000 * uint32</pre>"
      ],
      "text/plain": [
       "<Array [2, 2, 1, 4, 4, 3, 2, ..., 1, 0, 3, 2, 3, 2, 3] type='100000 * uint32'>"
      ]
     },
     "execution_count": 31,
     "metadata": {},
     "output_type": "execute_result"
    }
   ],
   "source": [
    "branches.nMuon"
   ]
  },
  {
   "cell_type": "code",
   "execution_count": 32,
   "id": "8eee6c38-2e8c-4d78-88c8-1ef984bdc851",
   "metadata": {},
   "outputs": [
    {
     "data": {
      "text/html": [
       "<pre>[2,\n",
       " 2,\n",
       " 1,\n",
       " 4,\n",
       " 4,\n",
       " 3,\n",
       " 2,\n",
       " 2,\n",
       " 2,\n",
       " 2,\n",
       " ...,\n",
       " 3,\n",
       " 2,\n",
       " 1,\n",
       " 0,\n",
       " 3,\n",
       " 2,\n",
       " 3,\n",
       " 2,\n",
       " 3]\n",
       "---------------------\n",
       "type: 100000 * uint32</pre>"
      ],
      "text/plain": [
       "<Array [2, 2, 1, 4, 4, 3, 2, ..., 1, 0, 3, 2, 3, 2, 3] type='100000 * uint32'>"
      ]
     },
     "execution_count": 32,
     "metadata": {},
     "output_type": "execute_result"
    }
   ],
   "source": [
    "#array regular\n",
    "branches['nMuon']"
   ]
  },
  {
   "cell_type": "code",
   "execution_count": 33,
   "id": "256decc5-236f-4dec-a67f-a58febddb3d5",
   "metadata": {},
   "outputs": [
    {
     "data": {
      "text/html": [
       "<pre>[[-1, -1],\n",
       " [1, -1],\n",
       " [1],\n",
       " [1, 1, 1, 1],\n",
       " [-1, -1, 1, 1],\n",
       " [-1, 1, -1],\n",
       " [-1, 1],\n",
       " [1, -1],\n",
       " [-1, 1],\n",
       " [-1, 1],\n",
       " ...,\n",
       " [-1, -1, 1],\n",
       " [-1, -1],\n",
       " [-1],\n",
       " [],\n",
       " [1, 1, 1],\n",
       " [-1, 1],\n",
       " [-1, 1, 1],\n",
       " [1, -1],\n",
       " [1, -1, 1]]\n",
       "--------------------------\n",
       "type: 100000 * var * int32</pre>"
      ],
      "text/plain": [
       "<Array [[-1, -1], [1, -1], ..., [...], [1, -1, 1]] type='100000 * var * int32'>"
      ]
     },
     "execution_count": 33,
     "metadata": {},
     "output_type": "execute_result"
    }
   ],
   "source": [
    "#array irregular\n",
    "branches['Muon_charge']"
   ]
  },
  {
   "cell_type": "code",
   "execution_count": 34,
   "id": "71f82743-a1e3-4699-933f-e5eb16a9d72a",
   "metadata": {},
   "outputs": [
    {
     "data": {
      "text/html": [
       "<pre>[[10.8, 15.7],\n",
       " [10.5, 16.3],\n",
       " [3.28],\n",
       " [11.4, 17.6, 9.62, 3.5],\n",
       " [3.28, 3.64, 32.9, 23.7],\n",
       " [3.57, 4.57, 4.37],\n",
       " [57.6, 53],\n",
       " [11.3, 23.9],\n",
       " [10.2, 14.2],\n",
       " [11.5, 3.47],\n",
       " ...,\n",
       " [17.3, 4.57, 5.96],\n",
       " [9.58, 3.33],\n",
       " [9.48],\n",
       " [],\n",
       " [30.3, 9.89, 6.69],\n",
       " [46.4, 43.9],\n",
       " [6.34, 6.98, 5.09],\n",
       " [3.31, 15.7],\n",
       " [11.4, 3.08, 4.97]]\n",
       "----------------------------\n",
       "type: 100000 * var * float32</pre>"
      ],
      "text/plain": [
       "<Array [[10.8, 15.7], ..., [11.4, ..., 4.97]] type='100000 * var * float32'>"
      ]
     },
     "execution_count": 34,
     "metadata": {},
     "output_type": "execute_result"
    }
   ],
   "source": [
    "#array irregular\n",
    "branches['Muon_pt']"
   ]
  },
  {
   "cell_type": "code",
   "execution_count": 35,
   "id": "736386b8-8782-425a-b6d9-62bc80c4f82b",
   "metadata": {},
   "outputs": [
    {
     "data": {
      "text/html": [
       "<pre>[[10.8, 15.7],\n",
       " [10.5, 16.3],\n",
       " [3.28],\n",
       " [11.4, 17.6, 9.62, 3.5],\n",
       " [3.28, 3.64, 32.9, 23.7],\n",
       " [3.57, 4.57, 4.37],\n",
       " [57.6, 53],\n",
       " [11.3, 23.9],\n",
       " [10.2, 14.2],\n",
       " [11.5, 3.47],\n",
       " ...,\n",
       " [17.3, 4.57, 5.96],\n",
       " [9.58, 3.33],\n",
       " [9.48],\n",
       " [],\n",
       " [30.3, 9.89, 6.69],\n",
       " [46.4, 43.9],\n",
       " [6.34, 6.98, 5.09],\n",
       " [3.31, 15.7],\n",
       " [11.4, 3.08, 4.97]]\n",
       "----------------------------\n",
       "type: 100000 * var * float32</pre>"
      ],
      "text/plain": [
       "<Array [[10.8, 15.7], ..., [11.4, ..., 4.97]] type='100000 * var * float32'>"
      ]
     },
     "execution_count": 35,
     "metadata": {},
     "output_type": "execute_result"
    }
   ],
   "source": [
    "branches.Muon_pt"
   ]
  },
  {
   "cell_type": "markdown",
   "id": "9193360f-4387-47cf-8863-88ebb697eaab",
   "metadata": {},
   "source": [
    "O método *.array()* transforma o branch em um awkward array.\n",
    "\n",
    "Você está acessando o branch Muon_pt da tree e convertendo seu conteúdo em um array que pode ser manipulado em Python."
   ]
  },
  {
   "cell_type": "code",
   "execution_count": 36,
   "id": "8fb6e3b1-d519-44bc-a815-b37d6b56de6c",
   "metadata": {},
   "outputs": [
    {
     "data": {
      "text/html": [
       "<pre>[[10.8, 15.7],\n",
       " [10.5, 16.3],\n",
       " [3.28],\n",
       " [11.4, 17.6, 9.62, 3.5],\n",
       " [3.28, 3.64, 32.9, 23.7],\n",
       " [3.57, 4.57, 4.37],\n",
       " [57.6, 53],\n",
       " [11.3, 23.9],\n",
       " [10.2, 14.2],\n",
       " [11.5, 3.47],\n",
       " ...,\n",
       " [17.3, 4.57, 5.96],\n",
       " [9.58, 3.33],\n",
       " [9.48],\n",
       " [],\n",
       " [30.3, 9.89, 6.69],\n",
       " [46.4, 43.9],\n",
       " [6.34, 6.98, 5.09],\n",
       " [3.31, 15.7],\n",
       " [11.4, 3.08, 4.97]]\n",
       "----------------------------\n",
       "type: 100000 * var * float32</pre>"
      ],
      "text/plain": [
       "<Array [[10.8, 15.7], ..., [11.4, ..., 4.97]] type='100000 * var * float32'>"
      ]
     },
     "execution_count": 36,
     "metadata": {},
     "output_type": "execute_result"
    }
   ],
   "source": [
    "tree['Muon_pt'].array() "
   ]
  },
  {
   "cell_type": "code",
   "execution_count": 37,
   "id": "35cf1e90-f1a1-4415-a391-a4d30d01b982",
   "metadata": {},
   "outputs": [
    {
     "data": {
      "text/html": [
       "<pre>[[1.07, -0.564],\n",
       " [-0.428, 0.349],\n",
       " [2.21],\n",
       " [-1.59, -1.75, -1.59, -1.66],\n",
       " [-2.17, -2.18, -1.12, -1.16],\n",
       " [-1.37, -0.703, -1.04],\n",
       " [-0.532, -1],\n",
       " [-0.772, -0.701],\n",
       " [0.442, 0.702],\n",
       " [2.34, 2.35],\n",
       " ...,\n",
       " [0.455, -1.32, 1.1],\n",
       " [-1.51, 2.2],\n",
       " [1.12],\n",
       " [],\n",
       " [0.262, -0.588, 0.312],\n",
       " [-1.93, -2.27],\n",
       " [-0.599, -0.0495, -0.905],\n",
       " [1.64, 0.477],\n",
       " [0.444, -1.69, 0.764]]\n",
       "------------------------------\n",
       "type: 100000 * var * float32</pre>"
      ],
      "text/plain": [
       "<Array [[1.07, -0.564], ..., [0.444, ..., 0.764]] type='100000 * var * float32'>"
      ]
     },
     "execution_count": 37,
     "metadata": {},
     "output_type": "execute_result"
    }
   ],
   "source": [
    "#array irregular\n",
    "branches.Muon_eta"
   ]
  },
  {
   "cell_type": "markdown",
   "id": "97162d82-e6a7-44a0-ac2d-7ffc4503fb83",
   "metadata": {},
   "source": [
    "Selecionando o primeiro evento no branch Muon_eta"
   ]
  },
  {
   "cell_type": "code",
   "execution_count": 38,
   "id": "81c2aa67-625d-4b70-b735-3f3dbb7342b7",
   "metadata": {},
   "outputs": [
    {
     "data": {
      "text/html": [
       "<pre>[1.07,\n",
       " -0.564]\n",
       "-----------------\n",
       "type: 2 * float32</pre>"
      ],
      "text/plain": [
       "<Array [1.07, -0.564] type='2 * float32'>"
      ]
     },
     "execution_count": 38,
     "metadata": {},
     "output_type": "execute_result"
    }
   ],
   "source": [
    "branches['Muon_eta'][0]"
   ]
  },
  {
   "cell_type": "code",
   "execution_count": 39,
   "id": "0a9043e7-3fb9-435f-97b8-4880d987340f",
   "metadata": {},
   "outputs": [
    {
     "data": {
      "text/plain": [
       "np.float32(1.0668273)"
      ]
     },
     "execution_count": 39,
     "metadata": {},
     "output_type": "execute_result"
    }
   ],
   "source": [
    "#Para acessar o valor de eta do primeiro múon no primeiro evento\n",
    "branches['Muon_eta'][0][0]"
   ]
  },
  {
   "cell_type": "code",
   "execution_count": 40,
   "id": "de9e7c4c-f207-443c-add0-025b087d67c3",
   "metadata": {},
   "outputs": [
    {
     "data": {
      "text/html": [
       "<pre>[-0.428,\n",
       " 0.349]\n",
       "-----------------\n",
       "type: 2 * float32</pre>"
      ],
      "text/plain": [
       "<Array [-0.428, 0.349] type='2 * float32'>"
      ]
     },
     "execution_count": 40,
     "metadata": {},
     "output_type": "execute_result"
    }
   ],
   "source": [
    "branches['Muon_eta'][1]"
   ]
  },
  {
   "cell_type": "code",
   "execution_count": 41,
   "id": "2b3b2910-cf86-4a3f-b0c0-d56d2602f6fc",
   "metadata": {},
   "outputs": [
    {
     "data": {
      "text/plain": [
       "np.float32(-0.42778006)"
      ]
     },
     "execution_count": 41,
     "metadata": {},
     "output_type": "execute_result"
    }
   ],
   "source": [
    "branches['Muon_eta'][1][0]"
   ]
  },
  {
   "cell_type": "code",
   "execution_count": 42,
   "id": "f7930d12-100b-4e87-ae46-d84d80af47ce",
   "metadata": {},
   "outputs": [
    {
     "name": "stdout",
     "output_type": "stream",
     "text": [
      "[1.07, -0.564]\n",
      "[-0.428, 0.349]\n",
      "[2.21]\n",
      "[-1.59, -1.75, -1.59, -1.66]\n",
      "[-2.17, -2.18, -1.12, -1.16]\n"
     ]
    }
   ],
   "source": [
    "for i in range(5):\n",
    "    print(branches['Muon_eta'][i])"
   ]
  },
  {
   "cell_type": "markdown",
   "id": "61de5f3d-984e-4395-b944-bf3964e8ba72",
   "metadata": {},
   "source": [
    "O *hist.axis.Regular* é um método da biblioteca hist usado para definir um eixo com intervalos regulares em um histograma. Ele permite especificar o número de bins, o intervalo de valores, e o título para o eixo."
   ]
  },
  {
   "cell_type": "markdown",
   "id": "b4c2426a-ea1c-41c4-87d9-9a245e509447",
   "metadata": {},
   "source": [
    "hist.axis.Regular(nbins, start, stop, label=\"Axis Label\")\n"
   ]
  },
  {
   "cell_type": "code",
   "execution_count": 43,
   "id": "a08e1953-e0f5-488e-8bdd-0c01fbe16863",
   "metadata": {},
   "outputs": [
    {
     "data": {
      "image/png": "[encoded data removed]",
      "text/plain": [
       "<Figure size 640x480 with 1 Axes>"
      ]
     },
     "metadata": {},
     "output_type": "display_data"
    }
   ],
   "source": [
    "hnm = hist.Hist(hist.axis.Regular(10, 0, 10, label='Número de múons no evento'))\n",
    "hnm.fill((branches['nMuon']))\n",
    "hnm.plot()\n",
    "plt.ylabel('Número de eventos')\n",
    "plt.show()"
   ]
  },
  {
   "cell_type": "markdown",
   "id": "2cecfcc1-e8c7-4864-89c2-8e4ad268da5d",
   "metadata": {},
   "source": [
    "# Contando eventos"
   ]
  },
  {
   "cell_type": "markdown",
   "id": "1e893a0d-2248-4531-881f-156237ce4fc5",
   "metadata": {},
   "source": [
    "Podemos contar o nr de eventos usando a função do python *len()*, usada para retornar o comprimento (número de itens) de um objeto."
   ]
  },
  {
   "cell_type": "code",
   "execution_count": 44,
   "id": "f53d2cc4-865b-4802-b1d7-44414f26fe63",
   "metadata": {},
   "outputs": [
    {
     "data": {
      "text/plain": [
       "100000"
      ]
     },
     "execution_count": 44,
     "metadata": {},
     "output_type": "execute_result"
    }
   ],
   "source": [
    "len(branches)"
   ]
  },
  {
   "cell_type": "code",
   "execution_count": 45,
   "id": "c5f9dfa0-22c6-47cb-b942-dd346bab40c9",
   "metadata": {},
   "outputs": [
    {
     "data": {
      "text/plain": [
       "100000"
      ]
     },
     "execution_count": 45,
     "metadata": {},
     "output_type": "execute_result"
    }
   ],
   "source": [
    "len(branches['nMuon'])\n"
   ]
  },
  {
   "cell_type": "code",
   "execution_count": 46,
   "id": "9e253ba0-8803-4d1e-ab68-e3009982038a",
   "metadata": {},
   "outputs": [
    {
     "data": {
      "text/plain": [
       "100000"
      ]
     },
     "execution_count": 46,
     "metadata": {},
     "output_type": "execute_result"
    }
   ],
   "source": [
    "len(branches['Muon_pt']) # com qualquer branches"
   ]
  },
  {
   "cell_type": "markdown",
   "id": "8372b298-d656-4892-9f91-ceaabf322555",
   "metadata": {},
   "source": [
    "Usando o Awkawrd com *ak.num*"
   ]
  },
  {
   "cell_type": "code",
   "execution_count": 47,
   "id": "1311e36a-c4d4-448d-854d-2581686b2136",
   "metadata": {},
   "outputs": [
    {
     "data": {
      "text/html": [
       "<pre>[2,\n",
       " 2,\n",
       " 1,\n",
       " 4,\n",
       " 4,\n",
       " 3,\n",
       " 2,\n",
       " 2,\n",
       " 2,\n",
       " 2,\n",
       " ...,\n",
       " 3,\n",
       " 2,\n",
       " 1,\n",
       " 0,\n",
       " 3,\n",
       " 2,\n",
       " 3,\n",
       " 2,\n",
       " 3]\n",
       "--------------------\n",
       "type: 100000 * int64</pre>"
      ],
      "text/plain": [
       "<Array [2, 2, 1, 4, 4, 3, 2, 2, ..., 1, 0, 3, 2, 3, 2, 3] type='100000 * int64'>"
      ]
     },
     "execution_count": 47,
     "metadata": {},
     "output_type": "execute_result"
    }
   ],
   "source": [
    "ak.num(branches['Muon_pt'])"
   ]
  },
  {
   "cell_type": "code",
   "execution_count": 48,
   "id": "063f8f86-6656-4841-946d-029c5143a790",
   "metadata": {},
   "outputs": [
    {
     "data": {
      "text/plain": [
       "235286"
      ]
     },
     "execution_count": 48,
     "metadata": {},
     "output_type": "execute_result"
    }
   ],
   "source": [
    "len(ak.flatten(branches['Muon_pt'])) #nr de múons"
   ]
  },
  {
   "cell_type": "markdown",
   "id": "3eaec8fb-a389-4d57-9a6c-87e4446df43e",
   "metadata": {},
   "source": [
    "# Aplicar critérios de seleção "
   ]
  },
  {
   "cell_type": "code",
   "execution_count": 49,
   "id": "e9fc7689-22be-4808-a496-a303c65e9099",
   "metadata": {},
   "outputs": [
    {
     "data": {
      "text/html": [
       "<pre>[False,\n",
       " False,\n",
       " True,\n",
       " False,\n",
       " False,\n",
       " False,\n",
       " False,\n",
       " False,\n",
       " False,\n",
       " False,\n",
       " ...,\n",
       " False,\n",
       " False,\n",
       " True,\n",
       " False,\n",
       " False,\n",
       " False,\n",
       " False,\n",
       " False,\n",
       " False]\n",
       "-------------------\n",
       "type: 100000 * bool</pre>"
      ],
      "text/plain": [
       "<Array [False, False, True, ..., False, False, False] type='100000 * bool'>"
      ]
     },
     "execution_count": 49,
     "metadata": {},
     "output_type": "execute_result"
    }
   ],
   "source": [
    "branches['nMuon'] == 1"
   ]
  },
  {
   "cell_type": "code",
   "execution_count": 50,
   "id": "d49319c6-6803-4e60-9f4d-7cbb7b7f6e23",
   "metadata": {},
   "outputs": [],
   "source": [
    "single_muon_mask = branches['nMuon'] == 1"
   ]
  },
  {
   "cell_type": "markdown",
   "id": "b9a7789b-2d47-417a-8a58-bc7a653710e9",
   "metadata": {},
   "source": [
    "Essa máscara pode ser aplicada a outros arrays para filtrar dados, selecionando apenas os eventos com um múon."
   ]
  },
  {
   "cell_type": "markdown",
   "id": "1589fbd9-50dc-4d99-8c4e-4ccc85ef278d",
   "metadata": {},
   "source": [
    "Contar o nr de eventos selecionados:"
   ]
  },
  {
   "cell_type": "code",
   "execution_count": 51,
   "id": "7a2c4e1d-9d43-4a88-8050-9d6d43c6b29d",
   "metadata": {},
   "outputs": [
    {
     "data": {
      "text/plain": [
       "np.int64(13447)"
      ]
     },
     "execution_count": 51,
     "metadata": {},
     "output_type": "execute_result"
    }
   ],
   "source": [
    "np.sum(single_muon_mask)"
   ]
  },
  {
   "cell_type": "code",
   "execution_count": 52,
   "id": "c0b99cc5-9173-4519-8db3-1dc90ef20c83",
   "metadata": {},
   "outputs": [
    {
     "name": "stdout",
     "output_type": "stream",
     "text": [
      "100000\n",
      "13447\n"
     ]
    }
   ],
   "source": [
    "print(len(single_muon_mask)) #retorna o número total de eventos no array\n",
    "print(np.sum(single_muon_mask)) # soma todos os valores True no array single_muon_mask"
   ]
  },
  {
   "cell_type": "markdown",
   "id": "a1cb7629-dc69-4e5c-8823-0422ec1d608a",
   "metadata": {},
   "source": [
    "Se quisermos aplicar uma seleção em um array (ou seja, remover eventos ou múons que não passam), basta usar a máscara de seleção como um índice. Por exemplo, se queremos o pT apenas daqueles múons em eventos com exatamente um múon:"
   ]
  },
  {
   "cell_type": "code",
   "execution_count": 53,
   "id": "ce54873d-e379-4bd4-bbac-83a6003fe576",
   "metadata": {},
   "outputs": [
    {
     "data": {
      "text/html": [
       "<pre>[[3.28],\n",
       " [3.84],\n",
       " [16.1],\n",
       " [13.3],\n",
       " [8.58],\n",
       " [3.61],\n",
       " [11],\n",
       " [11.7],\n",
       " [9.21],\n",
       " [8.65],\n",
       " ...,\n",
       " [8.82],\n",
       " [18.2],\n",
       " [27],\n",
       " [14.6],\n",
       " [3.34],\n",
       " [4.89],\n",
       " [8.19],\n",
       " [13.3],\n",
       " [9.48]]\n",
       "---------------------------\n",
       "type: 13447 * var * float32</pre>"
      ],
      "text/plain": [
       "<Array [[3.28], [3.84], ..., [13.3], [9.48]] type='13447 * var * float32'>"
      ]
     },
     "execution_count": 53,
     "metadata": {},
     "output_type": "execute_result"
    }
   ],
   "source": [
    "branches['Muon_pt'][single_muon_mask]"
   ]
  },
  {
   "cell_type": "markdown",
   "id": "24ebfa26-8eb4-4a35-a65e-15edebf421e2",
   "metadata": {},
   "source": [
    "Podemos verificar que estamos realmente observando apenas os eventos que passam pela seleção ao conferir o número de linhas:"
   ]
  },
  {
   "cell_type": "code",
   "execution_count": 54,
   "id": "b68c3068-985a-416c-ab7d-9e1215daa2ea",
   "metadata": {},
   "outputs": [
    {
     "data": {
      "text/plain": [
       "13447"
      ]
     },
     "execution_count": 54,
     "metadata": {},
     "output_type": "execute_result"
    }
   ],
   "source": [
    "len(branches['Muon_pt'][single_muon_mask])"
   ]
  },
  {
   "cell_type": "markdown",
   "id": "4eb97bbc-0524-42f7-b45f-6bc66083a2cb",
   "metadata": {},
   "source": [
    "Plotando com Seleções - podemos usar máscaras para plotar quantidades após alguma seleção. \n"
   ]
  },
  {
   "cell_type": "code",
   "execution_count": 55,
   "id": "4645f630-3cad-4ad3-ab78-ace904af1f37",
   "metadata": {},
   "outputs": [
    {
     "data": {
      "image/png": "[encoded data removed]",
      "text/plain": [
       "<Figure size 640x480 with 1 Axes>"
      ]
     },
     "metadata": {},
     "output_type": "display_data"
    }
   ],
   "source": [
    "h = hist.Hist(hist.axis.Regular(100, 0, 100, label='Muon $p_{T}$ [GeV]'))\n",
    "h.fill(np.ravel(branches['Muon_pt'][single_muon_mask]))\n",
    "h.plot()\n",
    "plt.yscale('log')\n",
    "plt.ylabel('Números de single muons / 1 GeV')\n",
    "plt.show()"
   ]
  },
  {
   "cell_type": "markdown",
   "id": "e0bcbb3b-e8ea-4816-b211-f9bbac151fdf",
   "metadata": {},
   "source": [
    "Vamos analisar uma comparação para um array irregular (jagged array), usando o valor absoluto de $\\eta$ dos múons:"
   ]
  },
  {
   "cell_type": "code",
   "execution_count": 56,
   "id": "76bcd433-b174-4e61-b658-5ee75a72b9cc",
   "metadata": {},
   "outputs": [
    {
     "data": {
      "text/html": [
       "<pre>[[True, True],\n",
       " [True, True],\n",
       " [False],\n",
       " [True, True, True, True],\n",
       " [False, False, True, True],\n",
       " [True, True, True],\n",
       " [True, True],\n",
       " [True, True],\n",
       " [True, True],\n",
       " [False, False],\n",
       " ...,\n",
       " [True, True, True],\n",
       " [True, False],\n",
       " [True],\n",
       " [],\n",
       " [True, True, True],\n",
       " [True, False],\n",
       " [True, True, True],\n",
       " [True, True],\n",
       " [True, True, True]]\n",
       "----------------------------\n",
       "type: 100000 * var * bool</pre>"
      ],
      "text/plain": [
       "<Array [[True, True], ..., [True, True, True]] type='100000 * var * bool'>"
      ]
     },
     "execution_count": 56,
     "metadata": {},
     "output_type": "execute_result"
    }
   ],
   "source": [
    "eta_mask = abs(branches['Muon_eta']) < 2\n",
    "eta_mask"
   ]
  },
  {
   "cell_type": "markdown",
   "id": "db49c11e-4883-4594-9ecc-cbebe56d4b2b",
   "metadata": {},
   "source": [
    "Novamente, o array de máscara tem as mesmas dimensões que o array original. Há um valor booleano para cada múon, correspondendo a se o seu $\\eta$  é menor que 2 em valor absoluto. "
   ]
  },
  {
   "cell_type": "markdown",
   "id": "f0406c36-6f04-42ec-a84f-d08d7bf78b07",
   "metadata": {},
   "source": [
    "Podemos realizar contagens e plotagens da mesma forma que antes:"
   ]
  },
  {
   "cell_type": "code",
   "execution_count": 57,
   "id": "1778bad7-f7c7-4d11-b15e-8ffbbeb47d2d",
   "metadata": {},
   "outputs": [
    {
     "data": {
      "text/plain": [
       "np.int64(204564)"
      ]
     },
     "execution_count": 57,
     "metadata": {},
     "output_type": "execute_result"
    }
   ],
   "source": [
    "np.sum(eta_mask)"
   ]
  },
  {
   "cell_type": "markdown",
   "id": "a262aa33-5734-497f-a992-6b8bace3686b",
   "metadata": {},
   "source": [
    "Esse é o nr de múons que passam pelo corte ou seleção."
   ]
  },
  {
   "cell_type": "code",
   "execution_count": 58,
   "id": "6af8f92f-bee8-4365-af4d-6356b9125234",
   "metadata": {},
   "outputs": [],
   "source": [
    "eta_hist = hist.Hist(hist.axis.Regular(50, -2.5, 2.5, label=r'Muon $\\eta$'))"
   ]
  },
  {
   "cell_type": "code",
   "execution_count": 59,
   "id": "da5473b2-e47a-4f2d-97d7-b52e64696b15",
   "metadata": {},
   "outputs": [
    {
     "data": {
      "image/png": "[encoded data removed]",
      "text/plain": [
       "<Figure size 640x480 with 1 Axes>"
      ]
     },
     "metadata": {},
     "output_type": "display_data"
    }
   ],
   "source": [
    "eta_hist.fill(np.ravel(branches['Muon_eta']))\n",
    "eta_hist.plot()\n",
    "plt.title('Sem seleção')\n",
    "plt.ylabel('Nr de múons')\n",
    "plt.show()"
   ]
  },
  {
   "cell_type": "code",
   "execution_count": 60,
   "id": "547168e4-8e11-4fd8-97a0-2290258786dc",
   "metadata": {},
   "outputs": [],
   "source": [
    "#print(eta_hist)\n"
   ]
  },
  {
   "cell_type": "code",
   "execution_count": 61,
   "id": "f9ea5e96-1dfc-434d-9566-8b09b3f14f8b",
   "metadata": {},
   "outputs": [
    {
     "data": {
      "text/html": [
       "<html>\n",
       "<div style=\"display:flex; align-items:center;\">\n",
       "<div style=\"width:290px;\">\n",
       "<svg xmlns=\"http://www.w3.org/2000/svg\" viewBox=\"-10 -105 270 120\">\n",
       "<line x1=\"-5\" y1=\"0\" x2=\"255\" y2=\"0\" style=\"fill:none;stroke-width:2;stroke:currentColor\"/>\n",
       "<text text-anchor=\"middle\" x=\"0\" y=\"15\" style=\"fill:currentColor;\">\n",
       "-2.5\n",
       "</text>\n",
       "<text text-anchor=\"middle\" x=\"250\" y=\"15\" style=\"fill:currentColor;\">\n",
       "2.5\n",
       "</text>\n",
       "<text text-anchor=\"middle\" x=\"125.0\" y=\"15\" style=\"fill:currentColor;\">\n",
       "Muon $\\eta$\n",
       "</text>\n",
       "<polyline points=\"  0,0   0,-0   5,-0   5,-0  10,-0  10,-0  15,-0  15,-0  20,-0  20,-0  25,-0  25,-0  30,-0  30,-0  35,-0  35,-0  40,-0  40,-0  45,-0  45,-0  50,-0  50,-0  55,-0  55,-0  60,-0  60,-0  65,-0  65,-0  70,-0  70,-0  75,-0  75,-0  80,-0  80,-0  85,-0  85,-0  90,-0  90,-0  95,-0  95,-0 100,-0 100,-0 105,-0 105,-0 110,-0 110,-0 115,-0 115,-0 120,-0 120,-0 125,-0 125,-0 130,-0 130,-0 135,-0 135,-0 140,-0 140,-0 145,-0 145,-0 150,-0 150,-0 155,-0 155,-0 160,-0 160,-0 165,-0 165,-0 170,-0 170,-0 175,-0 175,-0 180,-0 180,-0 185,-0 185,-0 190,-0 190,-0 195,-0 195,-0 200,-0 200,-0 205,-0 205,-0 210,-0 210,-0 215,-0 215,-0 220,-0 220,-0 225,-0 225,-0 230,-0 230,-0 235,-0 235,-0 240,-0 240,-0 245,-0 245,-0 250,-0 250,0\" style=\"fill:none; stroke:currentColor;\"/>\n",
       "</svg>\n",
       "</div>\n",
       "<div style=\"flex=grow:1;\">\n",
       "Regular(50, -2.5, 2.5, label='Muon $\\\\eta$')<br/>\n",
       "<hr style=\"margin-top:.2em; margin-bottom:.2em;\"/>\n",
       "Double() Σ=0.0\n",
       "\n",
       "</div>\n",
       "</div>\n",
       "</html>"
      ],
      "text/plain": [
       "Hist(Regular(50, -2.5, 2.5, label='Muon $\\\\eta$'), storage=Double())"
      ]
     },
     "execution_count": 61,
     "metadata": {},
     "output_type": "execute_result"
    }
   ],
   "source": [
    "eta_hist.reset() # Remove todos os dados preenchidos, mas mantém a estrutura. Limpa ou zera.\n"
   ]
  },
  {
   "cell_type": "code",
   "execution_count": 62,
   "id": "0c2b06b7-8181-40f0-b95a-0b0436a173b0",
   "metadata": {},
   "outputs": [
    {
     "data": {
      "image/png": "[encoded data removed]",
      "text/plain": [
       "<Figure size 640x480 with 1 Axes>"
      ]
     },
     "metadata": {},
     "output_type": "display_data"
    }
   ],
   "source": [
    "eta_hist.fill(np.ravel(branches['Muon_eta'][eta_mask]))\n",
    "eta_hist.plot()\n",
    "plt.title(r'Com seleção em $|\\eta| < 2$')\n",
    "plt.ylabel('Nr de múons')\n",
    "plt.show()"
   ]
  },
  {
   "cell_type": "markdown",
   "id": "bac953fd-3db1-4527-a49b-719c0b9e3892",
   "metadata": {},
   "source": [
    "O *np.ravel* é uma função da biblioteca *NumPy* usada para \"achatar\" um array, convertendo um array multidimensional em um array unidimensional. É mais eficiente em termos de memória, pois tenta evitar a criação de uma nova cópia dos dados."
   ]
  },
  {
   "cell_type": "markdown",
   "id": "8682dd2e-608a-4cc5-ab59-e215de58a353",
   "metadata": {},
   "source": [
    "Agora, podemos usar essas operações para comparar distribuições para diferentes seleções. Vamos observar o pT de múons em eventos únicos, divididos em dois grupos: aqueles com $|\\eta| < 2$ e aqueles com $|\\eta| \\geq 2$. Tudo o que precisamos fazer é fornecer uma lista de arrays como o primeiro argumento para o histograma, em vez de apenas um array. Observe os colchetes ao redor dos dois arrays:"
   ]
  },
  {
   "cell_type": "code",
   "execution_count": 63,
   "id": "ca3d97bf-80af-4dff-8f3a-e3964abb1432",
   "metadata": {},
   "outputs": [
    {
     "data": {
      "image/png": "[encoded data removed]",
      "text/plain": [
       "<Figure size 640x480 with 1 Axes>"
      ]
     },
     "metadata": {},
     "output_type": "display_data"
    }
   ],
   "source": [
    "pt_hist = hist.Hist(hist.axis.Regular(25, 0, 50, label='Muon $p_{T}$ [GeV]'),\n",
    "                    hist.axis.StrCategory([], growth=True, name='category'))\n",
    "\n",
    "pt_hist.fill(np.ravel(branches['Muon_pt'][single_muon_mask & eta_mask]), category=r'$|\\eta| < 2$')\n",
    "pt_hist.fill(np.ravel(branches['Muon_pt'][single_muon_mask & ~eta_mask]), category=r'$|\\eta| \\geq 2$')\n",
    "pt_hist.plot(density=True) #Plota o histograma normalizado, onde a área total é igual a 1 (se density=True).\n",
    "plt.legend()\n",
    "plt.show()"
   ]
  },
  {
   "cell_type": "markdown",
   "id": "3424dad0-858d-41da-977c-a2a21e9f7649",
   "metadata": {},
   "source": [
    "*hist.axis.StrCategory([], growth=True, name='category')* : Define um eixo de categorias que pode crescer dinamicamente (com growth=True) conforme novas categorias são adicionadas. Isso permite separar as seleções de eta em diferentes categorias."
   ]
  },
  {
   "cell_type": "markdown",
   "id": "a00461e9-393f-4827-be78-aca7821c0090",
   "metadata": {},
   "source": [
    "Agora, podemos ver claramente que há uma fração maior de múons com $|\\eta| \\geq 2$ em valores mais baixos de pT em comparação com múons com $|\\eta| < 2$. Isso faz sentido geometricamente, pois múons com valores mais altos de \n",
    "$|\\eta|$ estão viajando em uma direção menos perpendicular ao feixe.\n",
    "\n",
    "Como resultado, seu pT tende a ser menor, já que esses múons estão se movendo mais ao longo da direção do feixe do que na direção perpendicular a ele."
   ]
  },
  {
   "cell_type": "markdown",
   "id": "f3bc5fc2-567f-42a1-b627-726a2dbf26bd",
   "metadata": {},
   "source": [
    "# Verificaremos o perfil dos eventos de Dimuons"
   ]
  },
  {
   "cell_type": "code",
   "execution_count": 64,
   "id": "eade8ee8-5d41-457d-aca5-cf82a64268d2",
   "metadata": {},
   "outputs": [],
   "source": [
    "two_muons_mask = branches['nMuon'] == 2"
   ]
  },
  {
   "cell_type": "code",
   "execution_count": 65,
   "id": "e3f0056f-c059-42f1-b184-2f8d0e7c3a19",
   "metadata": {},
   "outputs": [],
   "source": [
    "muon_p4 = vector.zip({'pt': branches['Muon_pt'], \n",
    "                      'eta': branches['Muon_eta'],\n",
    "                      'phi': branches['Muon_phi'], \n",
    "                      'mass': branches['Muon_mass']})"
   ]
  },
  {
   "cell_type": "code",
   "execution_count": 66,
   "id": "eea9c23a-8979-4e5f-b0ae-6c0bae8320cf",
   "metadata": {},
   "outputs": [],
   "source": [
    "two_muons_p4 = muon_p4[two_muons_mask]"
   ]
  },
  {
   "cell_type": "code",
   "execution_count": 67,
   "id": "c4b9d73e-91e7-48ab-9da8-c8cf01919e29",
   "metadata": {},
   "outputs": [
    {
     "data": {
      "text/html": [
       "<pre>[[{rho: 10.8, phi: -0.0343, eta: 1.07, tau: 0.106}, {rho: 15.7, ...}],\n",
       " [{rho: 10.5, phi: -0.275, eta: -0.428, tau: 0.106}, {rho: 16.3, ...}],\n",
       " [{rho: 57.6, phi: -0.0718, eta: -0.532, tau: 0.106}, {rho: 53, ...}],\n",
       " [{rho: 11.3, phi: -2.25, eta: -0.772, tau: 0.106}, {rho: 23.9, ...}],\n",
       " [{rho: 10.2, phi: 0.678, eta: 0.442, tau: 0.106}, {rho: 14.2, ...}],\n",
       " [{rho: 11.5, phi: 3.13, eta: 2.34, tau: 0.106}, {rho: 3.47, ...}],\n",
       " [{rho: 8.82, phi: -3.07, eta: 1.65, tau: 0.106}, {rho: 17.6, ...}],\n",
       " [{rho: 14.6, phi: 1, eta: 1.26, tau: 0.106}, {rho: 12.3, phi: ..., ...}],\n",
       " [{rho: 4.34, phi: 1.85, eta: -1.88, tau: 0.106}, {rho: 13.1, ...}],\n",
       " [{rho: 15.2, phi: 0.421, eta: 1.34, tau: 0.106}, {rho: 10.5, ...}],\n",
       " ...,\n",
       " [{rho: 8.21, phi: 0.786, eta: -1.85, tau: 0.106}, {rho: 17, ...}],\n",
       " [{rho: 13.6, phi: -2.48, eta: 0.242, tau: 0.106}, {rho: 8.88, ...}],\n",
       " [{rho: 5.04, phi: -2.22, eta: 2.02, tau: 0.106}, {rho: 9.27, ...}],\n",
       " [{rho: 36.6, phi: -1.95, eta: -1.29, tau: 0.106}, {rho: 5.31, ...}],\n",
       " [{rho: 10.5, phi: -1.47, eta: 0.158, tau: 0.106}, {rho: 13.5, ...}],\n",
       " [{rho: 39.1, phi: -2.55, eta: 1.99, tau: 0.106}, {rho: 54.8, ...}],\n",
       " [{rho: 9.58, phi: -0.227, eta: -1.51, tau: 0.106}, {rho: 3.33, ...}],\n",
       " [{rho: 46.4, phi: -2.38, eta: -1.93, tau: 0.106}, {rho: 43.9, ...}],\n",
       " [{rho: 3.31, phi: 0.88, eta: 1.64, tau: 0.106}, {rho: 15.7, ...}]]\n",
       "--------------------------------------------------------------------------\n",
       "type: 48976 * var * Momentum4D[\n",
       "    rho: float32,\n",
       "    phi: float32,\n",
       "    eta: float32,\n",
       "    tau: float32\n",
       "]</pre>"
      ],
      "text/plain": [
       "<MomentumArray4D [[{rho: 10.8, phi: ..., ...}, ...], ...] type='48976 * var...'>"
      ]
     },
     "execution_count": 67,
     "metadata": {},
     "output_type": "execute_result"
    }
   ],
   "source": [
    "two_muons_p4"
   ]
  },
  {
   "cell_type": "markdown",
   "id": "b22b920b-679e-420a-9b53-4d2587e3eb21",
   "metadata": {},
   "source": [
    "two_muons_p4.pt\n",
    "\n",
    "two_muons_p4.eta\n",
    "\n",
    "two_muons_p4.phi\n",
    "\n",
    "two_muons_p4.E\n",
    "\n",
    "two_muons_p4.mass"
   ]
  },
  {
   "cell_type": "code",
   "execution_count": 68,
   "id": "ff58fc2a-e940-44a7-b669-fb7df78fc920",
   "metadata": {},
   "outputs": [],
   "source": [
    "first_muon_p4 = two_muons_p4[:, 0]"
   ]
  },
  {
   "cell_type": "markdown",
   "id": "d36391f0-dd92-4410-9e60-80b4b165b768",
   "metadata": {},
   "source": [
    "Na notação [:, 0], o : significa \"incluir todas as linhas na primeira dimensão\" (ou seja, todos os eventos no array). A vírgula separa a seleção ao longo da primeira dimensão da seleção ao longo da segunda dimensão. A segunda dimensão representa os múons em cada evento, então, ao usarmos 0, estamos selecionando o primeiro múon em cada evento."
   ]
  },
  {
   "cell_type": "code",
   "execution_count": 69,
   "id": "b793c6e2-ba84-41b2-b0b7-a92877da34c2",
   "metadata": {},
   "outputs": [],
   "source": [
    "second_muon_p4 = two_muons_p4[:, 1]"
   ]
  },
  {
   "cell_type": "code",
   "execution_count": 70,
   "id": "5899a260-daff-4935-ad0d-7b84700814cd",
   "metadata": {},
   "outputs": [
    {
     "data": {
      "text/html": [
       "<pre>[{rho: 8.79, phi: 1.83, eta: 0.486, tau: 34.4},\n",
       " {rho: 7.19, phi: 2.05, eta: 0.162, tau: 27.9},\n",
       " {rho: 4.69, phi: -0.297, eta: -3.7, tau: 114},\n",
       " {rho: 35.2, phi: -2.2, eta: -0.724, tau: 1.59},\n",
       " {rho: 6.51, phi: -1.32, eta: 1.6, tau: 23.7},\n",
       " {rho: 14.9, phi: 3.11, eta: 2.35, tau: 0.739},\n",
       " {rho: 10.5, phi: -0.77, eta: 1.94, tau: 27.1},\n",
       " {rho: 23.8, phi: 0.559, eta: 0.118, tau: 46.2},\n",
       " {rho: 17.4, phi: 1.73, eta: -1.97, tau: 1.57},\n",
       " {rho: 25.7, phi: 0.426, eta: 1.29, tau: 1.64},\n",
       " ...,\n",
       " {rho: 14.5, phi: 2.42, eta: -2.56, tau: 20.9},\n",
       " {rho: 6.23, phi: -1.94, eta: 0.144, tau: 22.3},\n",
       " {rho: 4.29, phi: 0.694, eta: 2.74, tau: 14.7},\n",
       " {rho: 41.8, phi: -1.98, eta: -1.3, tau: 3.63},\n",
       " {rho: 24, phi: -1.53, eta: 0.112, tau: 1.6},\n",
       " {rho: 30.6, phi: 1.94, eta: 2.73, tau: 94.4},\n",
       " {rho: 7.24, phi: -0.512, eta: -0.739, tau: 36.9},\n",
       " {rho: 4.98, phi: 2.9, eta: -4.99, tau: 91.5},\n",
       " {rho: 12.9, phi: -1.63, eta: 1.04, tau: 16.5}]\n",
       "--------------------------------------------------\n",
       "type: 48976 * Momentum4D[\n",
       "    rho: float32,\n",
       "    phi: float32,\n",
       "    eta: float32,\n",
       "    tau: float32\n",
       "]</pre>"
      ],
      "text/plain": [
       "<MomentumArray4D [{rho: 8.79, phi: 1.83, ...}, ...] type='48976 * Momentum4...'>"
      ]
     },
     "execution_count": 70,
     "metadata": {},
     "output_type": "execute_result"
    }
   ],
   "source": [
    "sum_p4 = first_muon_p4 + second_muon_p4\n",
    "sum_p4"
   ]
  },
  {
   "cell_type": "code",
   "execution_count": 71,
   "id": "d91aa7e5-60e2-4bf6-b08c-a36878d4f70c",
   "metadata": {},
   "outputs": [
    {
     "data": {
      "image/png": "[encoded data removed]",
      "text/plain": [
       "<Figure size 640x480 with 1 Axes>"
      ]
     },
     "metadata": {},
     "output_type": "display_data"
    }
   ],
   "source": [
    "# Acessando eta e plotando\n",
    "eta_values = np.ravel(two_muons_p4.eta)  \n",
    "plt.hist(eta_values, bins=50, range=(-3, 3))\n",
    "plt.xlabel('Eta')\n",
    "plt.ylabel('Número de múons')\n",
    "plt.show()"
   ]
  },
  {
   "cell_type": "code",
   "execution_count": 72,
   "id": "e0251721-933b-465c-a155-f9247d9f9174",
   "metadata": {},
   "outputs": [],
   "source": [
    "two_muons_charges = branches['Muon_charge'][two_muons_mask]\n",
    "opposite_sign_muons_mask = two_muons_charges[:, 0] != two_muons_charges[:, 1]"
   ]
  },
  {
   "cell_type": "code",
   "execution_count": 73,
   "id": "38ac6727-c0f1-4b0f-b9a9-69ade92b6a10",
   "metadata": {},
   "outputs": [],
   "source": [
    "dimuon_p4 = sum_p4[opposite_sign_muons_mask]"
   ]
  },
  {
   "cell_type": "markdown",
   "id": "cb6593d8-82c4-4b97-b672-97730381a6ee",
   "metadata": {},
   "source": [
    "O comando *hist.axis.Variable(np.logspace(-1, 3, 200)* define o eixo x do histograma com bins variáveis usando np.logspace."
   ]
  },
  {
   "cell_type": "code",
   "execution_count": 74,
   "id": "cc867a20-03a2-43be-bbc3-471ce295a197",
   "metadata": {},
   "outputs": [
    {
     "data": {
      "image/png": "[encoded data removed]",
      "text/plain": [
       "<Figure size 640x480 with 1 Axes>"
      ]
     },
     "metadata": {},
     "output_type": "display_data"
    }
   ],
   "source": [
    "dimuon_mass_hist = hist.Hist(hist.axis.Variable(np.logspace(-1, 3, 200), label='Massa invariante dos Dimuons [GeV]'))\n",
    "dimuon_mass_hist.fill(dimuon_p4.mass)\n",
    "hep.histplot(dimuon_mass_hist, histtype='fill')\n",
    "plt.xscale('log')\n",
    "plt.ylabel('Número de eventos de dimuons')\n",
    "plt.yscale('log')"
   ]
  },
  {
   "cell_type": "code",
   "execution_count": 75,
   "id": "ea44e886-58df-40d5-aa88-9a2eec75e30c",
   "metadata": {},
   "outputs": [
    {
     "data": {
      "text/plain": [
       "37183"
      ]
     },
     "execution_count": 75,
     "metadata": {},
     "output_type": "execute_result"
    }
   ],
   "source": [
    "len(dimuon_p4) #Conta o número de pares de múons com sinais opostos"
   ]
  },
  {
   "cell_type": "code",
   "execution_count": 76,
   "id": "b8e557be-bd7a-49eb-9b2f-5343ddb9bbe8",
   "metadata": {
    "scrolled": true
   },
   "outputs": [
    {
     "data": {
      "image/png": "[encoded data removed]",
      "text/plain": [
       "<Figure size 1000x1000 with 1 Axes>"
      ]
     },
     "metadata": {},
     "output_type": "display_data"
    }
   ],
   "source": [
    "dimuon_mass_hist = hist.Hist(hist.axis.Variable(np.logspace(-1, 3, 200), label=r'$m_{\\mu^{-}\\mu^{+}}$ [GeV]'))\n",
    "dimuon_mass_hist.fill(dimuon_p4.mass)\n",
    "hep.style.use('CMS')\n",
    "hep.histplot(dimuon_mass_hist, histtype='fill')\n",
    "hep.cms.label(data=True, label='Open Data', year=2012, com=8)\n",
    "plt.xscale('log')\n",
    "plt.ylabel('Número de eventos de dimuons')\n",
    "plt.yscale('log')"
   ]
  },
  {
   "cell_type": "code",
   "execution_count": null,
   "id": "6325b323-0161-4c81-a2ca-be69157b2b2d",
   "metadata": {},
   "outputs": [],
   "source": []
  },
  {
   "cell_type": "code",
   "execution_count": null,
   "id": "144f7080-8b5e-4a1a-bd09-a1dc02df5746",
   "metadata": {},
   "outputs": [],
   "source": []
  },
  {
   "cell_type": "code",
   "execution_count": null,
   "id": "2026f1b8-7823-4942-9eb3-4bf98b0fd24b",
   "metadata": {},
   "outputs": [],
   "source": []
  }
 ],
 "metadata": {
  "kernelspec": {
   "display_name": "Python 3.12 (com ROOT)",
   "language": "python",
   "name": "python3.12"
  },
  "language_info": {
   "codemirror_mode": {
    "name": "ipython",
    "version": 3
   },
   "file_extension": ".py",
   "mimetype": "text/x-python",
   "name": "python",
   "nbconvert_exporter": "python",
   "pygments_lexer": "ipython3",
   "version": "3.12.2"
  }
 },
 "nbformat": 4,
 "nbformat_minor": 5
}
